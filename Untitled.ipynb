{
 "cells": [
  {
   "cell_type": "code",
   "execution_count": 1,
   "id": "84c870ac-719c-4d85-8d43-2905a06a3eed",
   "metadata": {},
   "outputs": [
    {
     "name": "stdout",
     "output_type": "stream",
     "text": [
      "Requirement already satisfied: requests in c:\\users\\sanwal ali\\anaconda\\anaconda3\\lib\\site-packages (2.32.2)\n",
      "Requirement already satisfied: beautifulsoup4 in c:\\users\\sanwal ali\\anaconda\\anaconda3\\lib\\site-packages (4.12.3)\n",
      "Requirement already satisfied: lxml in c:\\users\\sanwal ali\\anaconda\\anaconda3\\lib\\site-packages (5.2.1)\n",
      "Requirement already satisfied: selenium in c:\\users\\sanwal ali\\anaconda\\anaconda3\\lib\\site-packages (4.25.0)\n",
      "Requirement already satisfied: scrapy in c:\\users\\sanwal ali\\anaconda\\anaconda3\\lib\\site-packages (2.11.1)\n",
      "Requirement already satisfied: pandas in c:\\users\\sanwal ali\\anaconda\\anaconda3\\lib\\site-packages (2.2.2)\n",
      "Requirement already satisfied: charset-normalizer<4,>=2 in c:\\users\\sanwal ali\\anaconda\\anaconda3\\lib\\site-packages (from requests) (2.0.4)\n",
      "Requirement already satisfied: idna<4,>=2.5 in c:\\users\\sanwal ali\\anaconda\\anaconda3\\lib\\site-packages (from requests) (3.7)\n",
      "Requirement already satisfied: urllib3<3,>=1.21.1 in c:\\users\\sanwal ali\\anaconda\\anaconda3\\lib\\site-packages (from requests) (2.2.2)\n",
      "Requirement already satisfied: certifi>=2017.4.17 in c:\\users\\sanwal ali\\anaconda\\anaconda3\\lib\\site-packages (from requests) (2024.7.4)\n",
      "Requirement already satisfied: soupsieve>1.2 in c:\\users\\sanwal ali\\anaconda\\anaconda3\\lib\\site-packages (from beautifulsoup4) (2.5)\n",
      "Requirement already satisfied: trio~=0.17 in c:\\users\\sanwal ali\\anaconda\\anaconda3\\lib\\site-packages (from selenium) (0.26.2)\n",
      "Requirement already satisfied: trio-websocket~=0.9 in c:\\users\\sanwal ali\\anaconda\\anaconda3\\lib\\site-packages (from selenium) (0.11.1)\n",
      "Requirement already satisfied: typing_extensions~=4.9 in c:\\users\\sanwal ali\\anaconda\\anaconda3\\lib\\site-packages (from selenium) (4.11.0)\n",
      "Requirement already satisfied: websocket-client~=1.8 in c:\\users\\sanwal ali\\anaconda\\anaconda3\\lib\\site-packages (from selenium) (1.8.0)\n",
      "Requirement already satisfied: Twisted>=18.9.0 in c:\\users\\sanwal ali\\anaconda\\anaconda3\\lib\\site-packages (from scrapy) (23.10.0)\n",
      "Requirement already satisfied: cryptography>=36.0.0 in c:\\users\\sanwal ali\\anaconda\\anaconda3\\lib\\site-packages (from scrapy) (42.0.5)\n",
      "Requirement already satisfied: cssselect>=0.9.1 in c:\\users\\sanwal ali\\anaconda\\anaconda3\\lib\\site-packages (from scrapy) (1.2.0)\n",
      "Requirement already satisfied: itemloaders>=1.0.1 in c:\\users\\sanwal ali\\anaconda\\anaconda3\\lib\\site-packages (from scrapy) (1.1.0)\n",
      "Requirement already satisfied: parsel>=1.5.0 in c:\\users\\sanwal ali\\anaconda\\anaconda3\\lib\\site-packages (from scrapy) (1.8.1)\n",
      "Requirement already satisfied: pyOpenSSL>=21.0.0 in c:\\users\\sanwal ali\\anaconda\\anaconda3\\lib\\site-packages (from scrapy) (24.0.0)\n",
      "Requirement already satisfied: queuelib>=1.4.2 in c:\\users\\sanwal ali\\anaconda\\anaconda3\\lib\\site-packages (from scrapy) (1.6.2)\n",
      "Requirement already satisfied: service-identity>=18.1.0 in c:\\users\\sanwal ali\\anaconda\\anaconda3\\lib\\site-packages (from scrapy) (18.1.0)\n",
      "Requirement already satisfied: w3lib>=1.17.0 in c:\\users\\sanwal ali\\anaconda\\anaconda3\\lib\\site-packages (from scrapy) (2.1.2)\n",
      "Requirement already satisfied: zope.interface>=5.1.0 in c:\\users\\sanwal ali\\anaconda\\anaconda3\\lib\\site-packages (from scrapy) (5.4.0)\n",
      "Requirement already satisfied: protego>=0.1.15 in c:\\users\\sanwal ali\\anaconda\\anaconda3\\lib\\site-packages (from scrapy) (0.1.16)\n",
      "Requirement already satisfied: itemadapter>=0.1.0 in c:\\users\\sanwal ali\\anaconda\\anaconda3\\lib\\site-packages (from scrapy) (0.3.0)\n",
      "Requirement already satisfied: setuptools in c:\\users\\sanwal ali\\anaconda\\anaconda3\\lib\\site-packages (from scrapy) (74.0.0)\n",
      "Requirement already satisfied: packaging in c:\\users\\sanwal ali\\anaconda\\anaconda3\\lib\\site-packages (from scrapy) (23.2)\n",
      "Requirement already satisfied: tldextract in c:\\users\\sanwal ali\\anaconda\\anaconda3\\lib\\site-packages (from scrapy) (3.2.0)\n",
      "Requirement already satisfied: PyDispatcher>=2.0.5 in c:\\users\\sanwal ali\\anaconda\\anaconda3\\lib\\site-packages (from scrapy) (2.0.5)\n",
      "Requirement already satisfied: numpy>=1.26.0 in c:\\users\\sanwal ali\\anaconda\\anaconda3\\lib\\site-packages (from pandas) (1.26.4)\n",
      "Requirement already satisfied: python-dateutil>=2.8.2 in c:\\users\\sanwal ali\\anaconda\\anaconda3\\lib\\site-packages (from pandas) (2.9.0.post0)\n",
      "Requirement already satisfied: pytz>=2020.1 in c:\\users\\sanwal ali\\anaconda\\anaconda3\\lib\\site-packages (from pandas) (2024.1)\n",
      "Requirement already satisfied: tzdata>=2022.7 in c:\\users\\sanwal ali\\anaconda\\anaconda3\\lib\\site-packages (from pandas) (2023.3)\n",
      "Requirement already satisfied: cffi>=1.12 in c:\\users\\sanwal ali\\anaconda\\anaconda3\\lib\\site-packages (from cryptography>=36.0.0->scrapy) (1.16.0)\n",
      "Requirement already satisfied: jmespath>=0.9.5 in c:\\users\\sanwal ali\\anaconda\\anaconda3\\lib\\site-packages (from itemloaders>=1.0.1->scrapy) (1.0.1)\n",
      "Requirement already satisfied: six in c:\\users\\sanwal ali\\anaconda\\anaconda3\\lib\\site-packages (from protego>=0.1.15->scrapy) (1.16.0)\n",
      "Requirement already satisfied: attrs>=16.0.0 in c:\\users\\sanwal ali\\anaconda\\anaconda3\\lib\\site-packages (from service-identity>=18.1.0->scrapy) (24.2.0)\n",
      "Requirement already satisfied: pyasn1-modules in c:\\users\\sanwal ali\\anaconda\\anaconda3\\lib\\site-packages (from service-identity>=18.1.0->scrapy) (0.2.8)\n",
      "Requirement already satisfied: pyasn1 in c:\\users\\sanwal ali\\anaconda\\anaconda3\\lib\\site-packages (from service-identity>=18.1.0->scrapy) (0.4.8)\n",
      "Requirement already satisfied: sortedcontainers in c:\\users\\sanwal ali\\anaconda\\anaconda3\\lib\\site-packages (from trio~=0.17->selenium) (2.4.0)\n",
      "Requirement already satisfied: outcome in c:\\users\\sanwal ali\\anaconda\\anaconda3\\lib\\site-packages (from trio~=0.17->selenium) (1.3.0.post0)\n",
      "Requirement already satisfied: sniffio>=1.3.0 in c:\\users\\sanwal ali\\anaconda\\anaconda3\\lib\\site-packages (from trio~=0.17->selenium) (1.3.0)\n",
      "Requirement already satisfied: wsproto>=0.14 in c:\\users\\sanwal ali\\anaconda\\anaconda3\\lib\\site-packages (from trio-websocket~=0.9->selenium) (1.2.0)\n",
      "Requirement already satisfied: automat>=0.8.0 in c:\\users\\sanwal ali\\anaconda\\anaconda3\\lib\\site-packages (from Twisted>=18.9.0->scrapy) (20.2.0)\n",
      "Requirement already satisfied: constantly>=15.1 in c:\\users\\sanwal ali\\anaconda\\anaconda3\\lib\\site-packages (from Twisted>=18.9.0->scrapy) (23.10.4)\n",
      "Requirement already satisfied: hyperlink>=17.1.1 in c:\\users\\sanwal ali\\anaconda\\anaconda3\\lib\\site-packages (from Twisted>=18.9.0->scrapy) (21.0.0)\n",
      "Requirement already satisfied: incremental>=22.10.0 in c:\\users\\sanwal ali\\anaconda\\anaconda3\\lib\\site-packages (from Twisted>=18.9.0->scrapy) (22.10.0)\n",
      "Requirement already satisfied: twisted-iocpsupport<2,>=1.0.2 in c:\\users\\sanwal ali\\anaconda\\anaconda3\\lib\\site-packages (from Twisted>=18.9.0->scrapy) (1.0.2)\n",
      "Requirement already satisfied: pysocks!=1.5.7,<2.0,>=1.5.6 in c:\\users\\sanwal ali\\anaconda\\anaconda3\\lib\\site-packages (from urllib3[socks]<3,>=1.26->selenium) (1.7.1)\n",
      "Requirement already satisfied: requests-file>=1.4 in c:\\users\\sanwal ali\\anaconda\\anaconda3\\lib\\site-packages (from tldextract->scrapy) (1.5.1)\n",
      "Requirement already satisfied: filelock>=3.0.8 in c:\\users\\sanwal ali\\anaconda\\anaconda3\\lib\\site-packages (from tldextract->scrapy) (3.13.1)\n",
      "Requirement already satisfied: pycparser in c:\\users\\sanwal ali\\anaconda\\anaconda3\\lib\\site-packages (from cffi>=1.12->cryptography>=36.0.0->scrapy) (2.21)\n",
      "Requirement already satisfied: h11<1,>=0.9.0 in c:\\users\\sanwal ali\\anaconda\\anaconda3\\lib\\site-packages (from wsproto>=0.14->trio-websocket~=0.9->selenium) (0.14.0)\n"
     ]
    },
    {
     "name": "stderr",
     "output_type": "stream",
     "text": [
      "\n",
      "[notice] A new release of pip is available: 24.2 -> 24.3.1\n",
      "[notice] To update, run: python.exe -m pip install --upgrade pip\n"
     ]
    }
   ],
   "source": [
    "!pip install requests beautifulsoup4 lxml selenium scrapy pandas\n"
   ]
  },
  {
   "cell_type": "code",
   "execution_count": 5,
   "id": "112c7a4d-c535-4b6b-969b-196c697a6733",
   "metadata": {},
   "outputs": [
    {
     "name": "stdout",
     "output_type": "stream",
     "text": [
      "Data saved to products_static.csv\n"
     ]
    }
   ],
   "source": [
    "import requests\n",
    "from bs4 import BeautifulSoup\n",
    "import pandas as pd\n",
    "\n",
    "# Target URL\n",
    "url = \"https://www.telemart.pk/computer.html\"\n",
    "\n",
    "\n",
    "response = requests.get(url)\n",
    "if response.status_code == 200:\n",
    "    soup = BeautifulSoup(response.text, 'lxml')\n",
    "\n",
    "    products = []\n",
    "    for item in soup.select('.product-card'):  \n",
    "        name = item.select_one('.product-title').text.strip()\n",
    "        price = item.select_one('.price').text.strip()\n",
    "        link = item.select_one('a')['href']\n",
    "        products.append({'Name': name, 'Price': price, 'Link': link})\n",
    "\n",
    "    # Save to CSV\n",
    "    df = pd.DataFrame(products)\n",
    "    df.to_csv('products_static.csv', index=False)\n",
    "\n",
    "    print(\"Data saved to products_static.csv\")\n",
    "else:\n",
    "    print(\"Failed to fetch the page!\")\n"
   ]
  },
  {
   "cell_type": "code",
   "execution_count": 9,
   "id": "d7db4fc5-82ec-4dcb-9704-82c2e4a19170",
   "metadata": {},
   "outputs": [],
   "source": [
    "import scrapy\n",
    "\n",
    "class ProductSpider(scrapy.Spider):\n",
    "    name = \"products\"\n",
    "    start_urls = [\"https://www.telemart.pk/computer.html\"]\n",
    "\n",
    "    def parse(self, response):\n",
    "        for item in response.css('.product-card'):\n",
    "            yield {\n",
    "                'Name': item.css('.product-title::text').get().strip(),\n",
    "                'Price': item.css('.price::text').get().strip(),\n",
    "                'Link': response.urljoin(item.css('a::attr(href)').get())\n",
    "            }\n",
    "\n",
    "     \n",
    "        next_page = response.css('.next-page::attr(href)').get()\n",
    "        if next_page:\n",
    "            yield response.follow(next_page, self.parse)\n"
   ]
  },
  {
   "cell_type": "code",
   "execution_count": 11,
   "id": "a6c47738-0d12-4532-8237-c35bd4b63ba4",
   "metadata": {},
   "outputs": [
    {
     "name": "stdout",
     "output_type": "stream",
     "text": [
      "Data saved to products_selenium.json\n"
     ]
    }
   ],
   "source": [
    "from selenium import webdriver\n",
    "from selenium.webdriver.common.by import By\n",
    "import pandas as pd\n",
    "import time\n",
    "\n",
    "driver = webdriver.Chrome()\n",
    "\n",
    "# Open target URL\n",
    "driver.get(\"hhttps://www.telemart.pk/computer.html\")\n",
    "time.sleep(3) \n",
    "\n",
    "products = []\n",
    "items = driver.find_elements(By.CLASS_NAME, 'product-card')\n",
    "for item in items:\n",
    "    name = item.find_element(By.CLASS_NAME, 'product-title').text\n",
    "    price = item.find_element(By.CLASS_NAME, 'price').text\n",
    "    link = item.find_element(By.TAG_NAME, 'a').get_attribute('href')\n",
    "    products.append({'Name': name, 'Price': price, 'Link': link})\n",
    "\n",
    "\n",
    "df = pd.DataFrame(products)\n",
    "df.to_json('products_selenium.json', orient='records', indent=4)\n",
    "\n",
    "print(\"Data saved to products_selenium.json\")\n",
    "\n",
    "driver.quit()\n"
   ]
  },
  {
   "cell_type": "code",
   "execution_count": null,
   "id": "a0755ded-39f1-4216-a3d5-35026e4b3590",
   "metadata": {},
   "outputs": [],
   "source": []
  }
 ],
 "metadata": {
  "kernelspec": {
   "display_name": "Python 3 (ipykernel)",
   "language": "python",
   "name": "python3"
  },
  "language_info": {
   "codemirror_mode": {
    "name": "ipython",
    "version": 3
   },
   "file_extension": ".py",
   "mimetype": "text/x-python",
   "name": "python",
   "nbconvert_exporter": "python",
   "pygments_lexer": "ipython3",
   "version": "3.12.3"
  }
 },
 "nbformat": 4,
 "nbformat_minor": 5
}
